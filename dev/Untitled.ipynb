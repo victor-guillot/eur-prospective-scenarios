{
 "cells": [
  {
   "cell_type": "code",
   "execution_count": 1,
   "id": "6ecee380-33d6-4dce-aeeb-176dc321a63b",
   "metadata": {},
   "outputs": [],
   "source": [
    "from premise import *\n",
    "import bw2data\n",
    "from datapackage import Package\n",
    "bw2data.projects.set_current(\"ei39\")"
   ]
  },
  {
   "cell_type": "code",
   "execution_count": 2,
   "id": "5ba87b7d-bbb7-479f-96de-00088f4599d8",
   "metadata": {},
   "outputs": [
    {
     "name": "stdout",
     "output_type": "stream",
     "text": [
      "premise v.(2, 1, 1, 'dev4')\n",
      "+------------------------------------------------------------------+\n",
      "| Warning                                                          |\n",
      "+------------------------------------------------------------------+\n",
      "| Because some of the scenarios can yield LCI databases            |\n",
      "| containing net negative emission technologies (NET),             |\n",
      "| it is advised to account for biogenic CO2 flows when calculating |\n",
      "| Global Warming potential indicators.                             |\n",
      "| `premise_gwp` provides characterization factors for such flows.  |\n",
      "| It also provides factors for hydrogen emissions to air.          |\n",
      "|                                                                  |\n",
      "| Within your bw2 project:                                         |\n",
      "| from premise_gwp import add_premise_gwp                          |\n",
      "| add_premise_gwp()                                                |\n",
      "+------------------------------------------------------------------+\n",
      "+--------------------------------+----------------------------------+\n",
      "| Utils functions                | Description                      |\n",
      "+--------------------------------+----------------------------------+\n",
      "| clear_cache()                  | Clears the cache folder. Useful  |\n",
      "|                                | when updating `premise`or        |\n",
      "|                                | encountering issues with         |\n",
      "|                                | inventories.                     |\n",
      "+--------------------------------+----------------------------------+\n",
      "| get_regions_definition(model)  | Retrieves the list of countries  |\n",
      "|                                | for each region of the model.    |\n",
      "+--------------------------------+----------------------------------+\n",
      "| ndb.NewDatabase(...)           | Generates a summary of the most  |\n",
      "| ndb.generate_scenario_report() | important scenarios' variables.  |\n",
      "+--------------------------------+----------------------------------+\n",
      "Keep uncertainty data?\n",
      "NewDatabase(..., keep_uncertainty_data=True)\n",
      "\n",
      "Hide these messages?\n",
      "NewDatabase(..., quiet=True)\n",
      "- Extracting source database\n",
      "- Extracting inventories\n",
      "- Fetching IAM data\n",
      "Done!\n"
     ]
    },
    {
     "name": "stderr",
     "output_type": "stream",
     "text": [
      "Processing scenarios:   0%|                     | 0/1 [00:00<?, ?it/s]"
     ]
    },
    {
     "name": "stdout",
     "output_type": "stream",
     "text": [
      "The following datasets will be duplicated:\n",
      "+----------------------------------------------------+---------------------------+\n",
      "|                        Name                        |     Reference product     |\n",
      "+----------------------------------------------------+---------------------------+\n",
      "| electricity production, natural gas, combined cycl | electricity, high voltage |\n",
      "+----------------------------------------------------+---------------------------+\n"
     ]
    },
    {
     "name": "stderr",
     "output_type": "stream",
     "text": [
      "Processing scenarios: 100%|█████████████| 1/1 [00:36<00:00, 36.48s/it]"
     ]
    },
    {
     "name": "stdout",
     "output_type": "stream",
     "text": [
      "Done!\n",
      "\n"
     ]
    },
    {
     "name": "stderr",
     "output_type": "stream",
     "text": [
      "\n"
     ]
    }
   ],
   "source": [
    "eur = Package(\"../datapackage.json\")\n",
    "scenarios = [\n",
    "    {\"model\": \"remind\", \"pathway\": \"SSP2-NPi\", \"year\": 2020, \"external scenarios\": [{\"scenario\": \"trade\", \"data\": eur}]},\n",
    "]\n",
    "\n",
    "ndb = NewDatabase(\n",
    "        scenarios=scenarios,\n",
    "        source_db=\"ecoinvent 3.9.1 cutoff\",\n",
    "        source_version=\"3.9\",\n",
    "        key=\"tUePmX_S5B8ieZkkM7WUU2CnO8SmShwmAeWK9x2rTFo=\",\n",
    "        use_absolute_efficiency=True,\n",
    "        #biosphere_name=\"ecoinvent-3.10-biosphere\"\n",
    "        \n",
    ")\n",
    "\n",
    "ndb.update(\"external\")"
   ]
  },
  {
   "cell_type": "code",
   "execution_count": 3,
   "id": "5ab32de5-cb43-4b91-addd-a13a0e30a9ac",
   "metadata": {},
   "outputs": [],
   "source": [
    "from premise.utils import load_database\n",
    "for scenario in ndb.scenarios:\n",
    "    scenario=load_database(scenario)"
   ]
  },
  {
   "cell_type": "code",
   "execution_count": 7,
   "id": "e869ba9d-7df9-4263-b711-c51ae8644047",
   "metadata": {},
   "outputs": [],
   "source": [
    "for scenario in ndb.scenarios:\n",
    "    db = scenario[\"database\"]\n",
    "    regions = list(set([a[\"location\"] for a in db if \"TIMES\" in a [\"name\"]]))\n",
    "    suppliers_to_replace = [\n",
    "        \"market for electricity, high voltage\",\n",
    "        \"market for electricity, medium voltage\",\n",
    "        \"market for electricity, low voltage\",\n",
    "    ]\n",
    "    for ds in db:\n",
    "        if not any(x in ds[\"name\"] for x in suppliers_to_replace):\n",
    "            for e in ds[\"exchanges\"]:\n",
    "                if e[\"type\"] == \"technosphere\":\n",
    "                    if e[\"name\"] in suppliers_to_replace and e[\"location\"] in regions:\n",
    "                        e[\"name\"] += \" (TIMES)\""
   ]
  },
  {
   "cell_type": "code",
   "execution_count": 8,
   "id": "86750d91-2db6-4085-9cdf-5436f08b5bb9",
   "metadata": {},
   "outputs": [
    {
     "name": "stdout",
     "output_type": "stream",
     "text": [
      "Write new database(s) to Brightway.\n",
      "Running all checks...\n",
      "Minor anomalies found: check the change report.\n",
      "---> MAJOR anomalies found: check the change report.\n"
     ]
    },
    {
     "name": "stderr",
     "output_type": "stream",
     "text": [
      "Writing activities to SQLite3 database:\n",
      "0% [##############################] 100% | ETA: 00:00:00\n",
      "Total time elapsed: 00:00:21\n"
     ]
    },
    {
     "name": "stdout",
     "output_type": "stream",
     "text": [
      "Title: Writing activities to SQLite3 database:\n",
      "  Started: 07/10/2024 16:05:42\n",
      "  Finished: 07/10/2024 16:06:04\n",
      "  Total time elapsed: 00:00:21\n",
      "  CPU %: 93.60\n",
      "  Memory %: 12.23\n",
      "Created database: eur 2020 5\n",
      "Generate scenario report.\n",
      "Report saved under /Users/romain/Github/eur-prospective-scenarios/dev/export/scenario_report.\n",
      "Generate change report.\n",
      "Report saved under /Users/romain/Github/eur-prospective-scenarios/dev.\n"
     ]
    }
   ],
   "source": [
    "ndb.write_db_to_brightway(\"eur 2020 5\")"
   ]
  },
  {
   "cell_type": "code",
   "execution_count": null,
   "id": "1b17f5a9-b0b9-4f55-bbf1-bed65833171d",
   "metadata": {},
   "outputs": [],
   "source": []
  }
 ],
 "metadata": {
  "kernelspec": {
   "display_name": "Python 3 (ipykernel)",
   "language": "python",
   "name": "python3"
  },
  "language_info": {
   "codemirror_mode": {
    "name": "ipython",
    "version": 3
   },
   "file_extension": ".py",
   "mimetype": "text/x-python",
   "name": "python",
   "nbconvert_exporter": "python",
   "pygments_lexer": "ipython3",
   "version": "3.10.13"
  }
 },
 "nbformat": 4,
 "nbformat_minor": 5
}
