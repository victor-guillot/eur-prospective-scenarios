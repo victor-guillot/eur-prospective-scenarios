{
 "cells": [
  {
   "cell_type": "code",
   "execution_count": 1,
   "metadata": {},
   "outputs": [],
   "source": [
    "import pandas as pd\n",
    "import brightway2 as bw\n",
    "import bw2data\n",
    "from bw2io import ExcelLCIAImporter\n",
    "from premise import *\n",
    "from premise import NewDatabase\n",
    "from datapackage import Package"
   ]
  },
  {
   "cell_type": "code",
   "execution_count": 2,
   "metadata": {},
   "outputs": [],
   "source": [
    "PROJECT_NAME = 'euna_test09'\n",
    "ECOINVENT_DIR = r\"C:\\Users\\victor.guillot\\PYTHON\\brightway\\data\\ecoinvent 3.9.1_cutoff_ecoSpold02\\datasets\" # <- insert the path to ecoinvent 3.8 here\n",
    "ECOINVENT_NAME = 'ei39cutoff'\n",
    "SOURCE_VERSION = '3.9.1'\n",
    "DECRYPTION_KEY = 'xxxx'\n",
    "\n",
    "bw.projects.set_current(PROJECT_NAME)"
   ]
  },
  {
   "cell_type": "code",
   "execution_count": 4,
   "metadata": {},
   "outputs": [
    {
     "data": {
      "text/plain": [
       "Databases dictionary with 10 object(s):\n",
       "\tbiosphere3\n",
       "\tei39cutoff\n",
       "\texport_lci\n",
       "\tforeground\n",
       "\tremind-SSP2-PkBudg1150-2050-trade-fr-test\n",
       "\tremind-SSP2-PkBudg1150-2050-trade-fr-test-1\n",
       "\tremind-SSP2-PkBudg1150-2050-trade-fr-test-1-1\n",
       "\tremind-SSP2-PkBudg1150-2050-trade-fr-test-1-1-1\n",
       "\tremind-SSP2-PkBudg1150-2050-trade-fr-test-1-1-1-1\n",
       "\tremind-SSP2-PkBudg1150-2050-trade-fr-test-2"
      ]
     },
     "execution_count": 4,
     "metadata": {},
     "output_type": "execute_result"
    }
   ],
   "source": [
    "bw.databases\n",
    "#bw.projects.dir"
   ]
  },
  {
   "cell_type": "code",
   "execution_count": 5,
   "metadata": {},
   "outputs": [],
   "source": [
    "# databases_list = list(bw.databases)\n",
    "# for db_name in databases_list:\n",
    "#     if db_name not in ['biosphere3', 'ei39cutoff', 'foreground',]:\n",
    "#         print(f\"{db_name} deleted\")\n",
    "#         del bw.databases[db_name]\n",
    "\n",
    "# bw.databases"
   ]
  },
  {
   "cell_type": "code",
   "execution_count": 6,
   "metadata": {},
   "outputs": [
    {
     "name": "stdout",
     "output_type": "stream",
     "text": [
      "Biosphere database already installed\n",
      "Ecoinvent database already installed\n"
     ]
    }
   ],
   "source": [
    "if 'biosphere3' in bw.databases:\n",
    "    print('Biosphere database already installed')\n",
    "else:\n",
    "    bw.bw2setup()\n",
    "    \n",
    "if ECOINVENT_NAME in bw.databases:\n",
    "    print('Ecoinvent database already installed')\n",
    "else:\n",
    "    ei = bw.SingleOutputEcospold2Importer(ECOINVENT_DIR, ECOINVENT_NAME)\n",
    "    ei.apply_strategies()\n",
    "    ei.statistics()\n",
    "    ei.write_database()"
   ]
  },
  {
   "cell_type": "code",
   "execution_count": 8,
   "metadata": {},
   "outputs": [],
   "source": [
    "eur = Package(\"datapackage.json\")\n",
    "\n",
    "scenarios = [\n",
    "    #{\"model\": \"remind\", \"pathway\": \"SSP2-PkBudg1150\", \"year\": 2050},\n",
    "    {\"model\": \"remind\", \"pathway\": \"SSP2-PkBudg1150\", \"year\": 2050, \"external scenarios\": [{\"scenario\": \"trade\", \"data\": eur}]},\n",
    "    #{\"model\": \"image\", \"pathway\": \"SSP2-RCP26\", \"year\": 2030, \"external scenarios\": [{\"scenario\": \"trade\", \"data\": euna}]},\n",
    "    #{\"model\": \"image\", \"pathway\": \"SSP2-RCP26\", \"year\": 2040, \"external scenarios\": [{\"scenario\": \"trade\", \"data\": euna}]},\n",
    "    #{\"model\": \"image\", \"pathway\": \"SSP2-RCP26\", \"year\": 2050, \"external scenarios\": [{\"scenario\": \"trade\", \"data\": euna}]},\n",
    "]"
   ]
  },
  {
   "cell_type": "code",
   "execution_count": 9,
   "metadata": {},
   "outputs": [
    {
     "name": "stdout",
     "output_type": "stream",
     "text": [
      "remind-SSP2-PkBudg1150-2050-trade-test\n",
      "premise v.(2, 1, 1, 'dev4')\n",
      "+------------------------------------------------------------------+\n",
      "| Warning                                                          |\n",
      "+------------------------------------------------------------------+\n",
      "| Because some of the scenarios can yield LCI databases            |\n",
      "| containing net negative emission technologies (NET),             |\n",
      "| it is advised to account for biogenic CO2 flows when calculating |\n",
      "| Global Warming potential indicators.                             |\n",
      "| `premise_gwp` provides characterization factors for such flows.  |\n",
      "| It also provides factors for hydrogen emissions to air.          |\n",
      "|                                                                  |\n",
      "| Within your bw2 project:                                         |\n",
      "| from premise_gwp import add_premise_gwp                          |\n",
      "| add_premise_gwp()                                                |\n",
      "+------------------------------------------------------------------+\n",
      "+--------------------------------+----------------------------------+\n",
      "| Utils functions                | Description                      |\n",
      "+--------------------------------+----------------------------------+\n",
      "| clear_cache()                  | Clears the cache folder. Useful  |\n",
      "|                                | when updating `premise`or        |\n",
      "|                                | encountering issues with         |\n",
      "|                                | inventories.                     |\n",
      "+--------------------------------+----------------------------------+\n",
      "| get_regions_definition(model)  | Retrieves the list of countries  |\n",
      "|                                | for each region of the model.    |\n",
      "+--------------------------------+----------------------------------+\n",
      "| ndb.NewDatabase(...)           | Generates a summary of the most  |\n",
      "| ndb.generate_scenario_report() | important scenarios' variables.  |\n",
      "+--------------------------------+----------------------------------+\n",
      "Keep uncertainty data?\n",
      "NewDatabase(..., keep_uncertainty_data=True)\n",
      "\n",
      "Hide these messages?\n",
      "NewDatabase(..., quiet=True)\n",
      "- Extracting source database\n",
      "- Extracting inventories\n",
      "- Fetching IAM data\n",
      "Done!\n"
     ]
    },
    {
     "name": "stderr",
     "output_type": "stream",
     "text": [
      "Processing scenarios:   0%|                     | 0/1 [00:00<?, ?it/s]"
     ]
    },
    {
     "name": "stdout",
     "output_type": "stream",
     "text": [
      "The following datasets will be duplicated:\n",
      "+----------------------------------------------------+---------------------------+\n",
      "|                        Name                        |     Reference product     |\n",
      "+----------------------------------------------------+---------------------------+\n",
      "| electricity production, natural gas, combined cycl | electricity, high voltage |\n",
      "+----------------------------------------------------+---------------------------+\n"
     ]
    },
    {
     "name": "stderr",
     "output_type": "stream",
     "text": [
      "Processing scenarios: 100%|████████████| 1/1 [08:26<00:00, 506.21s/it]\n"
     ]
    },
    {
     "name": "stdout",
     "output_type": "stream",
     "text": [
      "Done!\n",
      "\n",
      "Write new database(s) to Brightway.\n",
      "Running all checks...\n",
      "Minor anomalies found: check the change report.\n",
      "---> MAJOR anomalies found: check the change report.\n"
     ]
    },
    {
     "name": "stderr",
     "output_type": "stream",
     "text": [
      "Writing activities to SQLite3 database:\n",
      "0% [##############################] 100% | ETA: 00:00:00\n",
      "Total time elapsed: 00:01:29\n"
     ]
    },
    {
     "name": "stdout",
     "output_type": "stream",
     "text": [
      "Title: Writing activities to SQLite3 database:\n",
      "  Started: 07/09/2024 12:40:00\n",
      "  Finished: 07/09/2024 12:41:29\n",
      "  Total time elapsed: 00:01:29\n",
      "  CPU %: 99.70\n",
      "  Memory %: 12.13\n",
      "Created database: remind-SSP2-PkBudg1150-2050-trade-test\n",
      "Generate scenario report.\n",
      "Report saved under c:\\Users\\victor.guillot\\PYTHON\\eur-prospective-scenarios\\export\\scenario_report.\n",
      "Generate change report.\n",
      "Report saved under c:\\Users\\victor.guillot\\PYTHON\\eur-prospective-scenarios.\n"
     ]
    }
   ],
   "source": [
    "databases_list = list(bw.databases)\n",
    "\n",
    "for scenario in scenarios:\n",
    "    if 'external scenarios' in scenario and scenario['external scenarios']:\n",
    "        formatted_string = f\"{scenario['model']}-{scenario['pathway']}-{scenario['year']}-{scenario['external scenarios'][0]['scenario']}-test\"\n",
    "    else:\n",
    "        formatted_string = f\"{scenario['model']}-{scenario['pathway']}-{scenario['year']}-no-external-scenario-eur\"\n",
    "    print(formatted_string)\n",
    "    while formatted_string in databases_list:\n",
    "        print(f\"{formatted_string} already exists\")\n",
    "        #add \"-1\" to formatted_string\n",
    "        formatted_string = f\"{formatted_string}-1\"\n",
    "    \n",
    "    ndb = NewDatabase(\n",
    "        scenarios=[scenario],\n",
    "        source_db=ECOINVENT_NAME, # <-- name of the database in the BW2 project. Must be a string.\n",
    "        source_version=SOURCE_VERSION, # <-- version of ecoinvent. Must be a string.\n",
    "        key=DECRYPTION_KEY,# <-- ask the key to run premise from the developers            \n",
    "        )\n",
    "    \n",
    "    ndb.update()\n",
    "    ndb.write_db_to_brightway(formatted_string)"
   ]
  }
 ],
 "metadata": {
  "kernelspec": {
   "display_name": "Python 3",
   "language": "python",
   "name": "python3"
  },
  "language_info": {
   "codemirror_mode": {
    "name": "ipython",
    "version": 3
   },
   "file_extension": ".py",
   "mimetype": "text/x-python",
   "name": "python",
   "nbconvert_exporter": "python",
   "pygments_lexer": "ipython3",
   "version": "3.11.9"
  }
 },
 "nbformat": 4,
 "nbformat_minor": 2
}
